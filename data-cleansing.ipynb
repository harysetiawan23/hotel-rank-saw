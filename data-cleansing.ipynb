{
 "cells": [
  {
   "cell_type": "code",
   "execution_count": 39,
   "metadata": {},
   "outputs": [],
   "source": [
    "## Load File\n",
    "import os\n",
    "import json\n",
    "import numpy as np\n",
    "\n",
    "f = open(\"./items-2.json\")\n",
    "raw = json.load(f)"
   ]
  },
  {
   "cell_type": "code",
   "execution_count": 41,
   "metadata": {},
   "outputs": [],
   "source": [
    "## Data Reconstruction\n",
    "datasets = []\n",
    "for data in raw:\n",
    "    priceLevel = data.get('priceLevel')\n",
    "    priceLevel = priceLevel.split(\" - \")\n",
    "    priceLevel = [level.count('$') for level in priceLevel]\n",
    "    priceLevel = np.average(np.array(priceLevel)) if np.average(np.array(priceLevel)) > 0 else 0.1\n",
    "\n",
    "    dataset = {\n",
    "        \"type\": data.get('type'),\n",
    "        \"name\": data.get('name'),\n",
    "        \"travel_advisor_ranking\":int(data.get('rankingPosition')),\n",
    "        \"rating\": float(data.get('rating')),\n",
    "        \"total_review\":int(data.get('numberOfReviews')),\n",
    "        \"total_awards\":len(data.get('awards')),\n",
    "        \"price_level\" : priceLevel\n",
    "    }\n",
    "    datasets.append(dataset)\n",
    "\n",
    "json_object = json.dumps(datasets, indent = 4)\n",
    "with open(\"hotel_review_dataset.json\", \"w\") as outfile:\n",
    "    outfile.write(json_object)"
   ]
  }
 ],
 "metadata": {
  "interpreter": {
   "hash": "89228e29b4d6213ee2b498cbaeb6a7887ce2a930e84453dbbf8c53e89bb5016f"
  },
  "kernelspec": {
   "display_name": "Python 3.7.0 64-bit ('venv': venv)",
   "name": "python3"
  },
  "language_info": {
   "codemirror_mode": {
    "name": "ipython",
    "version": 3
   },
   "file_extension": ".py",
   "mimetype": "text/x-python",
   "name": "python",
   "nbconvert_exporter": "python",
   "pygments_lexer": "ipython3",
   "version": "3.7.0"
  },
  "orig_nbformat": 4
 },
 "nbformat": 4,
 "nbformat_minor": 2
}
